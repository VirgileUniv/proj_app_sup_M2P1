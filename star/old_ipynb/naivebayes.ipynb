{
 "cells": [
  {
   "cell_type": "code",
   "execution_count": 1,
   "metadata": {},
   "outputs": [],
   "source": [
    "import pickle\n",
    "\n",
    "import numpy as np\n",
    "import pandas as pd\n",
    "\n",
    "import matplotlib.pyplot as plt\n",
    "\n",
    "from sklearn.preprocessing import StandardScaler\n",
    "from sklearn.model_selection import GridSearchCV\n",
    "\n",
    "## radius neighbors\n",
    "from sklearn.naive_bayes import GaussianNB\n",
    "\n",
    "# perso utils\n",
    "from utils import load_data, SEED, NJOBS, dict_equality\n",
    "NJOBS = 1\n",
    "\n",
    "# get the data\n",
    "X_train, X_test, Y_train, Y_test = load_data(test_size=.2, train_size=1000)\n",
    "\n",
    "# scoring metrics\n",
    "scoring = 'f1_weighted'\n"
   ]
  },
  {
   "cell_type": "code",
   "execution_count": 2,
   "metadata": {},
   "outputs": [],
   "source": [
    "# rescaling the data\n",
    "scaler = StandardScaler()\n",
    "X_train, X_test = scaler.fit_transform(X_train), scaler.transform(X_test)"
   ]
  },
  {
   "cell_type": "code",
   "execution_count": 5,
   "metadata": {},
   "outputs": [],
   "source": [
    "## model specification ##\n",
    "model = GaussianNB()\n",
    "\n",
    "# hyper parameter space\n",
    "param_grid = {}\n",
    "\n",
    "# fit the data\n",
    "search_model = GridSearchCV(\n",
    "    model, \n",
    "    param_grid, \n",
    "    scoring=scoring, \n",
    "    n_jobs=NJOBS,\n",
    "    return_train_score=True,\n",
    ")\n",
    "\n",
    "fit = True\n",
    "save = True\n",
    "\n",
    "if fit :\n",
    "    # fit the model \n",
    "    search_model.fit(X_train, Y_train)\n",
    "\n",
    "    if save : \n",
    "        # save the model \n",
    "        with open('pkl/naivebayes.pkl', 'wb') as f :\n",
    "            pickle.dump(search_model, f)\n",
    "\n",
    "else : \n",
    "    # load the model\n",
    "    with open('pkl/naivebayes.pkl', 'rb') as f :\n",
    "        search_model = pickle.load(f)\n",
    "\n",
    "    old_grid = param_grid\n",
    "    param_grid = search_model.param_grid\n",
    "    \n",
    "    if not dict_equality(old_grid, param_grid) : \n",
    "        print('warning, param_grid changed\\nthe one of the model : ')\n",
    "        print(param_grid)"
   ]
  },
  {
   "cell_type": "markdown",
   "metadata": {},
   "source": [
    "### results"
   ]
  },
  {
   "cell_type": "code",
   "execution_count": 6,
   "metadata": {},
   "outputs": [
    {
     "name": "stdout",
     "output_type": "stream",
     "text": [
      "Best Score:  0.912325066429547\n",
      "Best Params:  {} \n",
      "\n"
     ]
    }
   ],
   "source": [
    "print(\"Best Score: \", search_model.best_score_)\n",
    "print(\"Best Params: \", search_model.best_params_, '\\n')\n",
    "\n",
    "res = search_model.cv_results_\n",
    "df_res = pd.DataFrame(res)\n",
    "# df_res.head()"
   ]
  }
 ],
 "metadata": {
  "kernelspec": {
   "display_name": "env",
   "language": "python",
   "name": "python3"
  },
  "language_info": {
   "codemirror_mode": {
    "name": "ipython",
    "version": 3
   },
   "file_extension": ".py",
   "mimetype": "text/x-python",
   "name": "python",
   "nbconvert_exporter": "python",
   "pygments_lexer": "ipython3",
   "version": "3.10.9"
  }
 },
 "nbformat": 4,
 "nbformat_minor": 2
}
